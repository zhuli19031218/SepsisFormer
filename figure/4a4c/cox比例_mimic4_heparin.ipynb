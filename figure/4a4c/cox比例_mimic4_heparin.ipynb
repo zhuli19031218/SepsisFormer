{
 "cells": [
  {
   "cell_type": "code",
   "execution_count": 1,
   "metadata": {},
   "outputs": [
    {
     "ename": "ImportError",
     "evalue": "this version of pandas is incompatible with numpy < 1.15.4\nyour numpy version is 1.15.1.\nPlease upgrade numpy to >= 1.15.4 to use this pandas version",
     "output_type": "error",
     "traceback": [
      "\u001b[1;31m---------------------------------------------------------------------------\u001b[0m",
      "\u001b[1;31mImportError\u001b[0m                               Traceback (most recent call last)",
      "\u001b[1;32m<ipython-input-1-c035fad1ae25>\u001b[0m in \u001b[0;36m<module>\u001b[1;34m()\u001b[0m\n\u001b[0;32m      1\u001b[0m \u001b[1;31m# 导包\u001b[0m\u001b[1;33m\u001b[0m\u001b[1;33m\u001b[0m\u001b[0m\n\u001b[1;32m----> 2\u001b[1;33m \u001b[1;32mimport\u001b[0m \u001b[0mpandas\u001b[0m \u001b[1;32mas\u001b[0m \u001b[0mpd\u001b[0m\u001b[1;33m\u001b[0m\u001b[0m\n\u001b[0m\u001b[0;32m      3\u001b[0m \u001b[1;32mfrom\u001b[0m \u001b[0mlifelines\u001b[0m \u001b[1;32mimport\u001b[0m \u001b[0mCoxPHFitter\u001b[0m\u001b[1;33m\u001b[0m\u001b[0m\n",
      "\u001b[1;32m~\\AppData\\Roaming\\Python\\Python37\\site-packages\\pandas\\__init__.py\u001b[0m in \u001b[0;36m<module>\u001b[1;34m()\u001b[0m\n\u001b[0;32m     20\u001b[0m \u001b[1;33m\u001b[0m\u001b[0m\n\u001b[0;32m     21\u001b[0m \u001b[1;31m# numpy compat\u001b[0m\u001b[1;33m\u001b[0m\u001b[1;33m\u001b[0m\u001b[0m\n\u001b[1;32m---> 22\u001b[1;33m from pandas.compat.numpy import (\n\u001b[0m\u001b[0;32m     23\u001b[0m     \u001b[0m_np_version_under1p16\u001b[0m\u001b[1;33m,\u001b[0m\u001b[1;33m\u001b[0m\u001b[0m\n\u001b[0;32m     24\u001b[0m     \u001b[0m_np_version_under1p17\u001b[0m\u001b[1;33m,\u001b[0m\u001b[1;33m\u001b[0m\u001b[0m\n",
      "\u001b[1;32m~\\AppData\\Roaming\\Python\\Python37\\site-packages\\pandas\\compat\\numpy\\__init__.py\u001b[0m in \u001b[0;36m<module>\u001b[1;34m()\u001b[0m\n\u001b[0;32m     19\u001b[0m \u001b[1;32mif\u001b[0m \u001b[0m_nlv\u001b[0m \u001b[1;33m<\u001b[0m \u001b[1;34m\"1.15.4\"\u001b[0m\u001b[1;33m:\u001b[0m\u001b[1;33m\u001b[0m\u001b[0m\n\u001b[0;32m     20\u001b[0m     raise ImportError(\n\u001b[1;32m---> 21\u001b[1;33m         \u001b[1;34m\"this version of pandas is incompatible with numpy < 1.15.4\\n\"\u001b[0m\u001b[1;33m\u001b[0m\u001b[0m\n\u001b[0m\u001b[0;32m     22\u001b[0m         \u001b[1;34mf\"your numpy version is {_np_version}.\\n\"\u001b[0m\u001b[1;33m\u001b[0m\u001b[0m\n\u001b[0;32m     23\u001b[0m         \u001b[1;34m\"Please upgrade numpy to >= 1.15.4 to use this pandas version\"\u001b[0m\u001b[1;33m\u001b[0m\u001b[0m\n",
      "\u001b[1;31mImportError\u001b[0m: this version of pandas is incompatible with numpy < 1.15.4\nyour numpy version is 1.15.1.\nPlease upgrade numpy to >= 1.15.4 to use this pandas version"
     ]
    }
   ],
   "source": [
    "# 导包\n",
    "import pandas as pd\n",
    "from lifelines import CoxPHFitter"
   ]
  },
  {
   "cell_type": "code",
   "execution_count": null,
   "metadata": {},
   "outputs": [],
   "source": [
    "# 高凝血   subphenotype 1\n",
    "data_subphenotype_1=pd.read_csv(r\"D:\\chj\\评分_3_4\\cox比例风险模型\\6_28\\score_hierarchy_mimic4_subphenotype_1.csv\")\n",
    "data_subphenotype_1\n",
    "# 创建Cox比例风险模型\n",
    "cph1_subphenotype_1=CoxPHFitter()\n",
    "# 拟合模型\n",
    "cph1_subphenotype_1.fit(data_subphenotype_1,duration_col='days',event_col=\"dead\",formula=\"heparin\")\n",
    "# 打印模型输出结果\n",
    "cph1_subphenotype_1.print_summary()"
   ]
  },
  {
   "cell_type": "markdown",
   "metadata": {},
   "source": [
    "Concordance:Concordance Index是AUC的推广，取值范围在[0, 1]之间，0.5为随机预测的结果，越靠近1，预测效果越好。\n",
    "Wald检验"
   ]
  },
  {
   "cell_type": "code",
   "execution_count": null,
   "metadata": {},
   "outputs": [],
   "source": [
    "# 低凝血   subphenotype 0\n",
    "data_subphenotype_2=pd.read_csv(r\"D:\\chj\\评分_3_4\\cox比例风险模型\\6_28\\score_hierarchy_mimic4_subphenotype_0.csv\")\n",
    "data_subphenotype_2\n",
    "# 创建Cox比例风险模型\n",
    "cph2_subphenotype_2=CoxPHFitter()\n",
    "# 拟合模型\n",
    "cph2_subphenotype_2.fit(data_subphenotype_2,duration_col='days',event_col=\"dead\",formula=\"heparin\")\n",
    "# 打印模型输出结果\n",
    "cph2_subphenotype_2.print_summary()"
   ]
  },
  {
   "cell_type": "code",
   "execution_count": null,
   "metadata": {},
   "outputs": [],
   "source": [
    "# Mild     score_level  1\n",
    "data_score_level_1=pd.read_csv(r\"D:\\chj\\评分_3_4\\cox比例风险模型\\6_28\\score_hierarchy_mimic4_score_level_1.csv\")\n",
    "data_score_level_1\n",
    "# 创建Cox比例风险模型\n",
    "cph3_score_level_1=CoxPHFitter()\n",
    "# 拟合模型\n",
    "cph3_score_level_1.fit(data_score_level_1,duration_col='days',event_col=\"dead\",formula=\"heparin\")\n",
    "# 打印模型输出结果\n",
    "cph3_score_level_1.print_summary()\n"
   ]
  },
  {
   "cell_type": "code",
   "execution_count": null,
   "metadata": {},
   "outputs": [],
   "source": [
    "# Moderate   score_level  2\n",
    "data_score_level_2=pd.read_csv(r\"D:\\chj\\评分_3_4\\cox比例风险模型\\6_28\\score_hierarchy_mimic4_score_level_2.csv\")\n",
    "data_score_level_2\n",
    "# 创建Cox比例风险模型\n",
    "cph4_score_level_1=CoxPHFitter()\n",
    "# 拟合模型\n",
    "cph4_score_level_1.fit(data_score_level_2,duration_col='days',event_col=\"dead\",formula=\"heparin\")\n",
    "# 打印模型输出结果\n",
    "cph4_score_level_1.print_summary()"
   ]
  },
  {
   "cell_type": "code",
   "execution_count": null,
   "metadata": {},
   "outputs": [],
   "source": [
    "# Severe     score_level  3\n",
    "data_score_level_3=pd.read_csv(r\"D:\\chj\\评分_3_4\\cox比例风险模型\\6_28\\score_hierarchy_mimic4_score_level_3.csv\")\n",
    "data_score_level_3\n",
    "# 创建Cox比例风险模型\n",
    "cph5_score_level_3=CoxPHFitter()\n",
    "# 拟合模型\n",
    "cph5_score_level_3.fit(data_score_level_3,duration_col='days',event_col=\"dead\",formula=\"heparin\")\n",
    "# 打印模型输出结果\n",
    "cph5_score_level_3.print_summary()"
   ]
  },
  {
   "cell_type": "code",
   "execution_count": null,
   "metadata": {},
   "outputs": [],
   "source": [
    "# Dangerous    score_level  4\n",
    "data_score_level_4=pd.read_csv(r\"D:\\chj\\评分_3_4\\cox比例风险模型\\6_28\\score_hierarchy_mimic4_score_level_4.csv\")\n",
    "data_score_level_4\n",
    "# 创建Cox比例风险模型\n",
    "cph4_score_level_4=CoxPHFitter()\n",
    "# 拟合模型\n",
    "cph4_score_level_4.fit(data_score_level_4,duration_col='days',event_col=\"dead\",formula=\"heparin\")\n",
    "# 打印模型输出结果\n",
    "cph4_score_level_4.print_summary()"
   ]
  }
 ],
 "metadata": {
  "kernelspec": {
   "display_name": "Python 3",
   "language": "python",
   "name": "python3"
  },
  "language_info": {
   "codemirror_mode": {
    "name": "ipython",
    "version": 3
   },
   "file_extension": ".py",
   "mimetype": "text/x-python",
   "name": "python",
   "nbconvert_exporter": "python",
   "pygments_lexer": "ipython3",
   "version": "3.7.0"
  }
 },
 "nbformat": 4,
 "nbformat_minor": 2
}
